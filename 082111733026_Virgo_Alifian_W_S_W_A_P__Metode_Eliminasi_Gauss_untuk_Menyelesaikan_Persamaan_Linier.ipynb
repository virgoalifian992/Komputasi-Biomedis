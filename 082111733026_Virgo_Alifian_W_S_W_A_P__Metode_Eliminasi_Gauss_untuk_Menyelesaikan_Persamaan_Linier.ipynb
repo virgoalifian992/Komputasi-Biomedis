{
  "nbformat": 4,
  "nbformat_minor": 0,
  "metadata": {
    "colab": {
      "provenance": [],
      "authorship_tag": "ABX9TyOELTIYOpR4orgTODVd9Iui",
      "include_colab_link": true
    },
    "kernelspec": {
      "name": "python3",
      "display_name": "Python 3"
    },
    "language_info": {
      "name": "python"
    }
  },
  "cells": [
    {
      "cell_type": "markdown",
      "metadata": {
        "id": "view-in-github",
        "colab_type": "text"
      },
      "source": [
        "<a href=\"https://colab.research.google.com/github/virgoalifian992/virgoalifian992/blob/main/082111733026_Virgo_Alifian_W_S_W_A_P__Metode_Eliminasi_Gauss_untuk_Menyelesaikan_Persamaan_Linier.ipynb\" target=\"_parent\"><img src=\"https://colab.research.google.com/assets/colab-badge.svg\" alt=\"Open In Colab\"/></a>"
      ]
    },
    {
      "cell_type": "code",
      "execution_count": null,
      "metadata": {
        "colab": {
          "base_uri": "https://localhost:8080/"
        },
        "id": "c9GsFE_N5iE3",
        "outputId": "7c4f1905-35d1-431c-e6fb-519f904d7bbf"
      },
      "outputs": [
        {
          "output_type": "stream",
          "name": "stdout",
          "text": [
            "Masukkan jumlah variabel: 3\n",
            "Masukkan matriks koefisien a:\n",
            "a[1][1]: 1\n",
            "a[1][2]: 2\n",
            "a[1][3]: 3\n",
            "a[2][1]: 1\n",
            "a[2][2]: 3\n",
            "a[2][3]: 5\n",
            "a[3][1]: 3\n",
            "a[3][2]: 4\n",
            "a[3][3]: 7\n",
            "Masukkan vektor hasil b:\n",
            "b[1]: 5\n",
            "b[2]: 6\n",
            "b[3]: 10\n",
            "Hasil:\n",
            "x[1] = 1.5\n",
            "x[2] = 4.0\n",
            "x[3] = -1.5\n"
          ]
        }
      ],
      "source": [
        "import numpy as np\n",
        "\n",
        "n = int(input(\"Masukkan jumlah variabel: \"))\n",
        "a = np.zeros((n, n))\n",
        "b = np.zeros(n)\n",
        "\n",
        "print(\"Masukkan matriks koefisien a:\")\n",
        "for i in range(n):\n",
        "    for j in range(n):\n",
        "        a[i][j] = float(input(f\"a[{i+1}][{j+1}]: \"))\n",
        "\n",
        "print(\"Masukkan vektor hasil b:\")\n",
        "for i in range(n):\n",
        "    b[i] = float(input(f\"b[{i+1}]: \"))\n",
        "\n",
        "# Forward Elimination\n",
        "for p in range(0, n-1):\n",
        "    for q in range(p+1, n):\n",
        "        pivot = a[q][p] / a[p][p]\n",
        "        for r in range(p, n):\n",
        "            a[q][r] = a[q][r] - pivot * a[p][r]\n",
        "        b[q] = b[q] - pivot * b[p]\n",
        "\n",
        "# Backward Solve\n",
        "x = np.zeros(n)\n",
        "x[n-1] = b[n-1] / a[n-1][n-1]\n",
        "for q in range(n-2, -1, -1):\n",
        "    sum = 0\n",
        "    for r in range(q+1, n):\n",
        "        sum = sum + a[q][r] * x[r]\n",
        "    x[q] = (b[q] - sum) / a[q][q]\n",
        "\n",
        "# Cetak hasil\n",
        "print(\"Hasil:\")\n",
        "for i in range(n):\n",
        "    print(f\"x[{i+1}] = {x[i]}\")"
      ]
    }
  ]
}
