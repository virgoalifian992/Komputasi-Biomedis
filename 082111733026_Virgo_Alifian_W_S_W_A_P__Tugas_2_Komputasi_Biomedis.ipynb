{
  "nbformat": 4,
  "nbformat_minor": 0,
  "metadata": {
    "colab": {
      "provenance": [],
      "authorship_tag": "ABX9TyNLsf5pPOsEXuuq8ET4vqaC",
      "include_colab_link": true
    },
    "kernelspec": {
      "name": "python3",
      "display_name": "Python 3"
    },
    "language_info": {
      "name": "python"
    }
  },
  "cells": [
    {
      "cell_type": "markdown",
      "metadata": {
        "id": "view-in-github",
        "colab_type": "text"
      },
      "source": [
        "<a href=\"https://colab.research.google.com/github/virgoalifian992/virgoalifian992/blob/main/082111733026_Virgo_Alifian_W_S_W_A_P__Tugas_2_Komputasi_Biomedis.ipynb\" target=\"_parent\"><img src=\"https://colab.research.google.com/assets/colab-badge.svg\" alt=\"Open In Colab\"/></a>"
      ]
    },
    {
      "cell_type": "markdown",
      "source": [
        "# **Penyelesaian Contoh Soal**"
      ],
      "metadata": {
        "id": "AzbrCdp5PPOU"
      }
    },
    {
      "cell_type": "code",
      "source": [
        "import numpy as np\n",
        "import pandas as pd\n",
        "from numpy import *\n",
        "\n",
        "\n",
        "# Data\n",
        "x = np.array([0.0, 1.0, 2.0, 2.5, 3.0])\n",
        "y = np.array([2.9, 3.7, 4.1, 4.4, 5.0])\n",
        "\n",
        "# Hitung kolom-kolom yang diperlukan\n",
        "xy = x * y\n",
        "x_squared = x ** 2\n",
        "\n",
        "# Hitung nilai a dan b menggunakan regresi linier\n",
        "mean_x = np.mean(x)\n",
        "mean_y = np.mean(y)\n",
        "b = np.sum((x - mean_x) * (y - mean_y)) / np.sum((x - mean_x) ** 2)\n",
        "a = mean_y - b * mean_x\n",
        "si = (y - a - b * x) ** 2\n",
        "\n",
        "# Buat DataFrame\n",
        "data = {'No.': range(1, len(x) + 1), 'x': x, 'y': y, 'xy': xy, 'x^2': x_squared,'s_i' : si}\n",
        "df = pd.DataFrame(data)\n",
        "\n",
        "# Hitung S\n",
        "S = np.sum(si)\n",
        "\n",
        "#Menghitung jumlah x dan jumlah xy\n",
        "jumx=np.sum(x)\n",
        "jumxy=np.sum(xy)\n",
        "\n",
        "\n",
        "# Tampilkan DataFrame\n",
        "print(df)\n",
        "\n",
        "# Tampilkan nilai a, b dan S\n",
        "print(\"\\nNilai a:\", a)\n",
        "print(\"\\nNilai b:\", b)\n",
        "print(\"\\nNilai S:\", S)\n",
        "print(\"\\nJumlah X:\", jumx)\n",
        "print(\"\\nJumlah XY:\", jumxy)\n",
        "print(\"\\nBentuk Persamaan Regresi Liniernya adalah: f(x) = \",a,\"+\",b,\"x\" )\n",
        "\n"
      ],
      "metadata": {
        "colab": {
          "base_uri": "https://localhost:8080/"
        },
        "id": "vI8NDx3zGqlL",
        "outputId": "8c86065c-dfc3-413e-cd82-dbd7435cb112"
      },
      "execution_count": null,
      "outputs": [
        {
          "output_type": "stream",
          "name": "stdout",
          "text": [
            "   No.    x    y    xy   x^2       s_i\n",
            "0    1  0.0  2.9   0.0  0.00  0.000714\n",
            "1    2  1.0  3.7   3.7  1.00  0.016945\n",
            "2    3  2.0  4.1   8.2  4.00  0.012753\n",
            "3    4  2.5  4.4  11.0  6.25  0.018086\n",
            "4    5  3.0  5.0  15.0  9.00  0.020726\n",
            "\n",
            "Nilai a: 2.926724137931035\n",
            "\n",
            "Nilai b: 0.643103448275862\n",
            "\n",
            "Nilai S: 0.06922413793103449\n",
            "\n",
            "Jumlah X: 8.5\n",
            "\n",
            "Jumlah XY: 37.9\n",
            "\n",
            "Bentuk Persamaan Regresi Liniernya adalah: f(x) =  2.926724137931035 + 0.643103448275862 x\n"
          ]
        }
      ]
    },
    {
      "cell_type": "markdown",
      "source": [
        "# **Tugas Nomor 1**"
      ],
      "metadata": {
        "id": "Wm1WuplPPSLk"
      }
    },
    {
      "cell_type": "code",
      "source": [
        "import numpy as np\n",
        "import pandas as pd\n",
        "\n",
        "# Data\n",
        "x = np.array([0.5, 1.0, 1.5, 2.0, 2.5])\n",
        "y = np.array([0.49, 1.60, 3.36, 6.44, 10.16])\n",
        "\n",
        "# Menyesuaikan data dengan persamaan regresi linier\n",
        "X = np.log(x)\n",
        "Y = np.log(y)\n",
        "\n",
        "# Hitung kolom-kolom yang diperlukan\n",
        "XY = X * Y\n",
        "X_squared = X ** 2\n",
        "Y_squared = Y ** 2\n",
        "\n",
        "# Hitung nilai a dan b menggunakan regresi linier\n",
        "mean_X = np.mean(X)\n",
        "mean_Y = np.mean(Y)\n",
        "b = np.sum((X - mean_X) * (Y - mean_Y)) / np.sum((X - mean_X) ** 2)\n",
        "A = mean_Y - b * mean_X\n",
        "a = np.exp(A)\n",
        "si = (Y - A - b * X) ** 2\n",
        "\n",
        "\n",
        "# Buat DataFrame\n",
        "data = {'No.': range(1, len(x) + 1), 'x': x, 'y': y, 'ln(x)': X, 'ln(y)': Y, 'ln(x)*ln(y)': XY, '(ln(x))^2': X_squared, '(ln(y))^2': Y_squared, 's_i': si}\n",
        "df = pd.DataFrame(data)\n",
        "\n",
        "# Hitung S\n",
        "S = np.sum(si)\n",
        "\n",
        "# Menghitung jumlah x dan jumlah xy\n",
        "jumx = np.sum(X)\n",
        "jumxy = np.sum(XY)\n",
        "\n",
        "# Tampilkan DataFrame\n",
        "print(df)\n",
        "\n",
        "# Tampilkan nilai a, b dan S\n",
        "print(\"\\nNilai a:\", a)\n",
        "print(\"\\nNilai A:\", A)\n",
        "print(\"\\nNilai b:\", b)\n",
        "print(\"\\nNilai S:\", S)\n",
        "print(\"\\nJumlah X:\", jumx)\n",
        "print(\"\\nJumlah XY:\", jumxy)\n",
        "print(\"\\nBentuk Persamaan Regresi Liniernya adalah: ln(f(x)) = \",A,\"+\",b,\"ln(x)\" )\n"
      ],
      "metadata": {
        "colab": {
          "base_uri": "https://localhost:8080/"
        },
        "id": "UUbgOWsnPdXc",
        "outputId": "5b03bac6-7788-48f4-97e7-4a9025465c02"
      },
      "execution_count": null,
      "outputs": [
        {
          "output_type": "stream",
          "name": "stdout",
          "text": [
            "   No.    x      y     ln(x)     ln(y)  ln(x)*ln(y)  (ln(x))^2  (ln(y))^2  \\\n",
            "0    1  0.5   0.49 -0.693147 -0.713350     0.494456   0.480453   0.508868   \n",
            "1    2  1.0   1.60  0.000000  0.470004     0.000000   0.000000   0.220903   \n",
            "2    3  1.5   3.36  0.405465  1.211941     0.491400   0.164402   1.468801   \n",
            "3    4  2.0   6.44  0.693147  1.862529     1.291006   0.480453   3.469013   \n",
            "4    5  2.5  10.16  0.916291  2.318458     2.124382   0.839589   5.375250   \n",
            "\n",
            "        s_i  \n",
            "0  0.003423  \n",
            "1  0.003902  \n",
            "2  0.006975  \n",
            "3  0.000662  \n",
            "4  0.003814  \n",
            "\n",
            "Nilai a: 1.7031397871561753\n",
            "\n",
            "Nilai A: 0.532473481198709\n",
            "\n",
            "Nilai b: 1.8817501813721564\n",
            "\n",
            "Nilai S: 0.018775933950291812\n",
            "\n",
            "Jumlah X: 1.3217558399823195\n",
            "\n",
            "Jumlah XY: 4.401244630640314\n",
            "\n",
            "Bentuk Persamaan Regresi Liniernya adalah: ln(f(x)) =  0.532473481198709 + 1.8817501813721564 ln(x)\n"
          ]
        }
      ]
    },
    {
      "cell_type": "markdown",
      "source": [
        "# **Tugas Nomor 2**"
      ],
      "metadata": {
        "id": "xSV7tnLAJb3F"
      }
    },
    {
      "cell_type": "code",
      "source": [
        "import numpy as np\n",
        "import pandas as pd\n",
        "\n",
        "# Data\n",
        "t = np.array([0.0, 0.5, 1.0, 1.5, 2.0, 2.5, 3.0, 3.5, 4.0, 4.5, 5.0, 5.5])\n",
        "y = np.array([1.000, 0.994, 0.990, 0.985, 0.979, 0.977, 0.972, 0.969, 0.967, 0.960, 0.956, 0.952])\n",
        "\n",
        "# Menyesuaikan data dengan persamaan regresi linier\n",
        "Y = np.log(y)\n",
        "\n",
        "# Hitung kolom-kolom yang diperlukan\n",
        "tY = t * Y\n",
        "t_squared = t ** 2\n",
        "Y_squared = Y ** 2\n",
        "\n",
        "# Hitung nilai a dan b menggunakan regresi linier\n",
        "mean_t = np.mean(t)\n",
        "mean_Y = np.mean(Y)\n",
        "b = np.sum((t - mean_t) * (Y - mean_Y)) / np.sum((t - mean_t) ** 2)\n",
        "A = mean_Y - b * mean_t\n",
        "a = np.exp(A)\n",
        "si = (Y - A + b * t) ** 2\n",
        "\n",
        "\n",
        "# Buat DataFrame\n",
        "data = {'No.': range(1, len(t) + 1), 't': t, 'y': y, 'ln(y)': Y, 't*ln(y)': tY, 't^2': t_squared, '(ln(y))^2': Y_squared, 's_i': si}\n",
        "df = pd.DataFrame(data)\n",
        "\n",
        "# Hitung S\n",
        "S = np.sum(si)\n",
        "\n",
        "# Menghitung jumlah t dan jumlah ty\n",
        "jumt = np.sum(t)\n",
        "jumty = np.sum(tY)\n",
        "\n",
        "# Tampilkan DataFrame\n",
        "print(df)\n",
        "\n",
        "# Tampilkan nilai a, b dan S\n",
        "print(\"\\nNilai a:\", a)\n",
        "print(\"\\nNilai A:\", A)\n",
        "print(\"\\nNilai b:\", b)\n",
        "print(\"\\nNilai S:\", S)\n",
        "print(\"\\nJumlah t:\", jumt)\n",
        "print(\"\\nJumlah tY:\", jumty)\n",
        "print(\"\\nBentuk Persamaan Regresi Liniernya adalah: ln(y(t)) = \",A,\"- (\",b,\")t\" )"
      ],
      "metadata": {
        "colab": {
          "base_uri": "https://localhost:8080/"
        },
        "id": "rwxCr1_HJdep",
        "outputId": "584cf63c-3e67-45d7-ce9e-d34a3bb9d591"
      },
      "execution_count": null,
      "outputs": [
        {
          "output_type": "stream",
          "name": "stdout",
          "text": [
            "    No.    t      y     ln(y)   t*ln(y)    t^2  (ln(y))^2       s_i\n",
            "0     1  0.0  1.000  0.000000  0.000000   0.00   0.000000  0.000003\n",
            "1     2  0.5  0.994 -0.006018 -0.003009   0.25   0.000036  0.000077\n",
            "2     3  1.0  0.990 -0.010050 -0.010050   1.00   0.000101  0.000293\n",
            "3     4  1.5  0.985 -0.015114 -0.022670   2.25   0.000228  0.000702\n",
            "4     5  2.0  0.979 -0.021224 -0.042447   4.00   0.000450  0.001363\n",
            "5     6  2.5  0.977 -0.023269 -0.058172   6.25   0.000541  0.001873\n",
            "6     7  3.0  0.972 -0.028399 -0.085198   9.00   0.000807  0.002781\n",
            "7     8  3.5  0.969 -0.031491 -0.110217  12.25   0.000992  0.003617\n",
            "8     9  4.0  0.967 -0.033557 -0.134227  16.00   0.001126  0.004426\n",
            "9    10  4.5  0.960 -0.040822 -0.183699  20.25   0.001666  0.006102\n",
            "10   11  5.0  0.956 -0.044997 -0.224987  25.00   0.002025  0.007501\n",
            "11   12  5.5  0.952 -0.049190 -0.270546  30.25   0.002420  0.009048\n",
            "\n",
            "Nilai a: 0.9984157812833949\n",
            "\n",
            "Nilai A: -0.0015854749179831755\n",
            "\n",
            "Nilai b: -0.008639549701453635\n",
            "\n",
            "Nilai S: 0.03778499998682796\n",
            "\n",
            "Jumlah t: 33.0\n",
            "\n",
            "Jumlah tY: -1.1452237095273294\n",
            "\n",
            "Bentuk Persamaan Regresi Liniernya adalah: ln(y(t)) =  -0.0015854749179831755 - ( -0.008639549701453635 )t\n"
          ]
        }
      ]
    }
  ]
}